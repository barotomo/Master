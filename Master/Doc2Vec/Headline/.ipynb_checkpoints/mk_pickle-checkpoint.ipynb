{
 "cells": [
  {
   "cell_type": "code",
   "execution_count": 1,
   "metadata": {},
   "outputs": [],
   "source": [
    "import os\n",
    "import pickle\n",
    "\n",
    "import numpy as np\n",
    "import pandas as pd\n",
    "\n",
    "from gensim.models.doc2vec import Doc2Vec"
   ]
  },
  {
   "cell_type": "code",
   "execution_count": 3,
   "metadata": {},
   "outputs": [
    {
     "name": "stdout",
     "output_type": "stream",
     "text": [
      "dbow:0/dmpv:11\n",
      "read_files= /Volumes/HDD/Texts/wakati_head/sports-watch\n",
      "read_files= /Volumes/HDD/Texts/wakati_head/it-life-hack\n",
      "read_files= /Volumes/HDD/Texts/wakati_head/movie-enter\n",
      "read_files= /Volumes/HDD/Texts/wakati_head/dokujo-tsushin\n",
      "ok\n"
     ]
    }
   ],
   "source": [
    "# # モデルのロード\n",
    "model_root='/Users/Baron/Document/text_mining/Data/model/Doc2Vec/Headline/'\n",
    "pickle_root='/Users/Baron/Document/text_mining/Data/pickle/Doc2Vec/Headline/'\n",
    "\n",
    "i=input('dbow:0/dmpv:1')\n",
    "if i=='0':\n",
    "    d2v_model = Doc2Vec.load(model_root+'d2v_headline_dbow.model')\n",
    "elif i=='1':\n",
    "    d2v_model = Doc2Vec.load(model_root+'d2v_headline_dmpv.model')\n",
    "\n",
    "x=[]\n",
    "y=[]\n",
    "z=[]\n",
    "dic={}\n",
    "def read_file(path, label):\n",
    "    print(\"read_files=\", path)\n",
    "    files=os.listdir(path)\n",
    "    for file in files:\n",
    "        if file=='.DS_Store':\n",
    "            continue\n",
    "        else:\n",
    "            z.append(file)                                          # ヘッドライン名\n",
    "            y.append(label)                                       # カテゴリラベル\n",
    "            x.append(d2v_model.docvecs[file])    # ベクトル\n",
    "\n",
    "read_file('/Volumes/HDD/Texts/wakati_head/sports-watch', 0)\n",
    "read_file('/Volumes/HDD/Texts/wakati_head/it-life-hack', 1)\n",
    "read_file('/Volumes/HDD/Texts/wakati_head/movie-enter', 2)\n",
    "read_file('/Volumes/HDD/Texts/wakati_head/dokujo-tsushin', 3)\n",
    "\n",
    "\n",
    "# # 保存 --- (*4)\n",
    "\n",
    "if i=='0':\n",
    "    pickle.dump([z, y, x], open(pickle_root+'d2v_headline_dbow.pickle', 'wb'))     # [ヘッドライン名 ,カテゴリラベル, ベクトル]\n",
    "elif i=='1':\n",
    "    pickle.dump([z, y, x], open(pickle_root+'d2v_headline_dmpv.pickle', 'wb'))\n",
    "print('ok')"
   ]
  },
  {
   "cell_type": "code",
   "execution_count": null,
   "metadata": {},
   "outputs": [],
   "source": []
  }
 ],
 "metadata": {
  "kernelspec": {
   "display_name": "Python 3",
   "language": "python",
   "name": "python3"
  },
  "language_info": {
   "codemirror_mode": {
    "name": "ipython",
    "version": 3
   },
   "file_extension": ".py",
   "mimetype": "text/x-python",
   "name": "python",
   "nbconvert_exporter": "python",
   "pygments_lexer": "ipython3",
   "version": "3.7.3"
  }
 },
 "nbformat": 4,
 "nbformat_minor": 2
}

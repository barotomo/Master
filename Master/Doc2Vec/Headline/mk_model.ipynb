{
 "cells": [
  {
   "cell_type": "code",
   "execution_count": 1,
   "metadata": {},
   "outputs": [],
   "source": [
    "import glob, os, sys\n",
    "from gensim.models.doc2vec import Doc2Vec, TaggedDocument\n",
    "import warnings\n",
    "warnings.filterwarnings('ignore')"
   ]
  },
  {
   "cell_type": "code",
   "execution_count": 2,
   "metadata": {},
   "outputs": [],
   "source": [
    "# -*- coding:utf-8 -*-\n",
    "import os\n",
    "from gensim.models.doc2vec import TaggedDocument\n",
    "\n",
    "root='/Volumes/HDD/Texts/wakati_head/'\n",
    "\n",
    "def tag():\n",
    "    dic={}\n",
    "    result=[]\n",
    "    dirs=['dokujo-tsushin', 'it-life-hack', 'movie-enter', 'sports-watch']\n",
    "    for d in dirs:\n",
    "        files=os.listdir(root+d)\n",
    "        for file in files:\n",
    "            if file=='.DS_Store':\n",
    "                continue\n",
    "            else:\n",
    "                with open(root+d+'/'+file, 'r', encoding='utf-8', errors='ignore') as f:\n",
    "                    line=f.read()\n",
    "                    line_output=line.split(' ')\n",
    "                    dic[file]=line_output\n",
    "    i=0\n",
    "    j=0\n",
    "    for k, v in dic.items():\n",
    "        sentence=TaggedDocument(v, ['%s' % k])\n",
    "        result.append(sentence)\n",
    "    \n",
    "    return result\n"
   ]
  },
  {
   "cell_type": "code",
   "execution_count": 5,
   "metadata": {},
   "outputs": [],
   "source": [
    "def mk_model(dm, training_docs):\n",
    "    model = Doc2Vec(training_docs,\n",
    "                  vector_size=300,\n",
    "                  alpha=0.25,\n",
    "                  dm=dm,\n",
    "                  window=3,\n",
    "                  min_alpha=0.0001,\n",
    "                  min_count=1,\n",
    "                  sample=1.0e-6,\n",
    "                  epochs=200,\n",
    "                  seed=1\n",
    "                  )\n",
    "    if dm==0:\n",
    "        model.save(\"/Users/Baron/Document/text_mining/Data/model/Doc2Vec/Headline/d2v_headline_dbow.model\")\n",
    "    elif dm==1:\n",
    "        model.save(\"/Users/Baron/Document/text_mining/Data/model/Doc2Vec/Headline/d2v_headline_dmpv.model\")\n",
    "    print(\"Model Saved\")"
   ]
  },
  {
   "cell_type": "code",
   "execution_count": 6,
   "metadata": {},
   "outputs": [
    {
     "name": "stdout",
     "output_type": "stream",
     "text": [
      "dbow:0/dmpv:11\n",
      "Model Saved\n"
     ]
    }
   ],
   "source": [
    "i=input('dbow:0/dmpv:1')\n",
    "if i=='0':\n",
    "    dm = 0\n",
    "elif i=='1':\n",
    "    dm = 1\n",
    "training_docs=tag()\n",
    "mk_model(dm, training_docs)"
   ]
  },
  {
   "cell_type": "code",
   "execution_count": null,
   "metadata": {},
   "outputs": [],
   "source": []
  },
  {
   "cell_type": "code",
   "execution_count": null,
   "metadata": {},
   "outputs": [],
   "source": []
  }
 ],
 "metadata": {
  "kernelspec": {
   "display_name": "Python 3",
   "language": "python",
   "name": "python3"
  },
  "language_info": {
   "codemirror_mode": {
    "name": "ipython",
    "version": 3
   },
   "file_extension": ".py",
   "mimetype": "text/x-python",
   "name": "python",
   "nbconvert_exporter": "python",
   "pygments_lexer": "ipython3",
   "version": "3.7.3"
  }
 },
 "nbformat": 4,
 "nbformat_minor": 2
}

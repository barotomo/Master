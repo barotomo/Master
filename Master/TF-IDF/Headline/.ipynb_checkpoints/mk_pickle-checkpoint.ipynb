{
 "cells": [
  {
   "cell_type": "code",
   "execution_count": 1,
   "metadata": {},
   "outputs": [],
   "source": [
    "import os\n",
    "import pickle\n",
    "import tfidf\n",
    "\n",
    "import numpy as np\n",
    "import pandas as pd"
   ]
  },
  {
   "cell_type": "code",
   "execution_count": 2,
   "metadata": {},
   "outputs": [
    {
     "name": "stdout",
     "output_type": "stream",
     "text": [
      "read_files= /Volumes/HDD/Texts/head/sports-watch\n",
      "read_files= /Volumes/HDD/Texts/head/it-life-hack\n",
      "read_files= /Volumes/HDD/Texts/head/movie-enter\n",
      "read_files= /Volumes/HDD/Texts/head/dokujo-tsushin\n",
      "ok\n"
     ]
    }
   ],
   "source": [
    "import os, glob, pickle\n",
    "import tfidf\n",
    "\n",
    "# 変数の初期化\n",
    "z = []\n",
    "y = []\n",
    "x = []\n",
    "\n",
    "# ディレクトリ内のファイル一覧を処理 --- (*1)\n",
    "def read_files(path, label):\n",
    "    print(\"read_files=\", path)\n",
    "    files=os.listdir(path)\n",
    "    for f in files:\n",
    "        if os.path.basename(f) == 'LICENSE': continue\n",
    "        elif os.path.basename(f) == '.DS_Store': continue\n",
    "        tfidf.add_file(path+'/'+f)                    # ベクトル\n",
    "        y.append(label)                                     # ラベル\n",
    "        z.append(f)                                           # ヘッドライン名\n",
    "\n",
    "# ファイル一覧を読む --- (*2)\n",
    "read_files('/Volumes/HDD/Texts/head/sports-watch', 0)\n",
    "read_files('/Volumes/HDD/Texts/head/it-life-hack', 1)\n",
    "read_files('/Volumes/HDD/Texts/head/movie-enter', 2)\n",
    "read_files('/Volumes/HDD/Texts/head/dokujo-tsushin', 3)\n",
    "\n",
    "# TF-IDFベクトルに変換 --- (*3)\n",
    "x = tfidf.calc_files()\n",
    "\n",
    "# 保存 --- (*4)\n",
    "pickle.dump([z, y, x], open('/Users/Baron/Document/text_mining/Data/pickle/TF-IDF/Headline/tfidf_headline.pickle', 'wb'))\n",
    "tfidf.save_dic('genre-tdidf.dic')\n",
    "print('ok')\n"
   ]
  }
 ],
 "metadata": {
  "kernelspec": {
   "display_name": "Python 3",
   "language": "python",
   "name": "python3"
  },
  "language_info": {
   "codemirror_mode": {
    "name": "ipython",
    "version": 3
   },
   "file_extension": ".py",
   "mimetype": "text/x-python",
   "name": "python",
   "nbconvert_exporter": "python",
   "pygments_lexer": "ipython3",
   "version": "3.7.3"
  }
 },
 "nbformat": 4,
 "nbformat_minor": 2
}

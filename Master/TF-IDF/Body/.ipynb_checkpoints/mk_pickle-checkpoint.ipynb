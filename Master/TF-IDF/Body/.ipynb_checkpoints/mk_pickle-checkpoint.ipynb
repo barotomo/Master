{
 "cells": [
  {
   "cell_type": "code",
   "execution_count": 1,
   "metadata": {},
   "outputs": [],
   "source": [
    "import os\n",
    "import pickle\n",
    "import h5py\n",
    "import tfidf\n",
    "\n",
    "import numpy as np\n",
    "import pandas as pd"
   ]
  },
  {
   "cell_type": "code",
   "execution_count": 2,
   "metadata": {},
   "outputs": [
    {
     "name": "stdout",
     "output_type": "stream",
     "text": [
      "read_files： /Users/Baron/Document/text_mining/Texts/body/sports-watch\n",
      "read_files： /Users/Baron/Document/text_mining/Texts/body/it-life-hack\n",
      "read_files： /Users/Baron/Document/text_mining/Texts/body/movie-enter\n",
      "read_files： /Users/Baron/Document/text_mining/Texts/body/dokujo-tsushin\n",
      "ok\n"
     ]
    }
   ],
   "source": [
    "# 変数の初期化\n",
    "z = []\n",
    "y = []\n",
    "x = []\n",
    "# ディレクトリ内のファイル一覧を処理 --- (*1)\n",
    "def read_files(path, label):\n",
    "    print(\"read_files：\", path)\n",
    "    files=os.listdir(path)\n",
    "    for f in files:\n",
    "        if os.path.basename(f) == 'LICENSE': continue\n",
    "        elif os.path.basename(f) == '.DS_Store': continue\n",
    "        tfidf.add_file(path+'/'+f)\n",
    "        y.append(label)\n",
    "        z.append(f)                                           # ヘッドライン名\n",
    "        \n",
    "# ファイル一覧を読む --- (*2)\n",
    "read_files('/Users/Baron/Document/text_mining/Texts/body/sports-watch', 0)\n",
    "read_files('/Users/Baron/Document/text_mining/Texts/body/it-life-hack', 1)\n",
    "read_files('/Users/Baron/Document/text_mining/Texts/body/movie-enter', 2)\n",
    "read_files('/Users/Baron/Document/text_mining/Texts/body/dokujo-tsushin', 3)\n",
    "# TF-IDFベクトルに変換 --- (*3)\n",
    "x = tfidf.calc_files()\n",
    "# 保存 --- (*4)\n",
    "pickle.dump([z, y, x], open('/Users/Baron/Document/text_mining/Data/pickle/TF-IDF/Body/tfidf_body.pickle', 'wb'))      #x:ベクトル y:ラベル z:ヘッドライン名\n",
    "tfidf.save_dic('genre-tdidf.dic')\n",
    "print('ok')\n"
   ]
  },
  {
   "cell_type": "code",
   "execution_count": null,
   "metadata": {},
   "outputs": [],
   "source": []
  }
 ],
 "metadata": {
  "kernelspec": {
   "display_name": "Python 3",
   "language": "python",
   "name": "python3"
  },
  "language_info": {
   "codemirror_mode": {
    "name": "ipython",
    "version": 3
   },
   "file_extension": ".py",
   "mimetype": "text/x-python",
   "name": "python",
   "nbconvert_exporter": "python",
   "pygments_lexer": "ipython3",
   "version": "3.7.3"
  }
 },
 "nbformat": 4,
 "nbformat_minor": 2
}

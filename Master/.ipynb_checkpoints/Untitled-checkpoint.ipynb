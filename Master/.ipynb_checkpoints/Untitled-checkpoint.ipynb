{
 "cells": [
  {
   "cell_type": "code",
   "execution_count": 1,
   "metadata": {},
   "outputs": [],
   "source": [
    "import os\n",
    "import MeCab\n",
    "import re\n",
    "import unicodedata"
   ]
  },
  {
   "cell_type": "code",
   "execution_count": 2,
   "metadata": {},
   "outputs": [
    {
     "name": "stdout",
     "output_type": "stream",
     "text": [
      "OK\n"
     ]
    }
   ],
   "source": [
    "# wakati_headの作成\n",
    "# 日付・URL削除\n",
    "dirs=['dokujo-tsushin', 'it-life-hack', 'movie-enter', 'sports-watch']\n",
    "# dirs=['dokujo-tsushin', 'it-life-hack', 'movie-enter', 'sports-watch', 'support_wiki']\n",
    "for d in dirs:\n",
    "#     print('=================================================================================================')\n",
    "    files = os.listdir('/Volumes/HDD/Texts/wakati_head/'+d)\n",
    "    for file in files:\n",
    "        if file=='.DS_Store':\n",
    "            continue\n",
    "        else:\n",
    "            with open('/Volumes/HDD/Texts/wakati_head/'+d+'/'+file, 'r', encoding='utf-8', errors='ignore') as I:\n",
    "                text=I.readlines()\n",
    "#                 print('-----------------------------------------------------------------------------------------------------------------------------------------------------------------')\n",
    "#                 print(text[2:])\n",
    "            with open('/Volumes/HDD/Texts/wakati_head/wakati_head.txt', 'a') as O:\n",
    "                s=''.join(text)\n",
    "                O.write(s)\n",
    "print('OK')"
   ]
  },
  {
   "cell_type": "code",
   "execution_count": 2,
   "metadata": {},
   "outputs": [
    {
     "name": "stdout",
     "output_type": "stream",
     "text": [
      "OK\n"
     ]
    }
   ],
   "source": [
    "# wakati_bodyの作成\n",
    "# 日付・URL削除\n",
    "dirs=['dokujo-tsushin', 'it-life-hack', 'movie-enter', 'sports-watch']\n",
    "# dirs=['dokujo-tsushin', 'it-life-hack', 'movie-enter', 'sports-watch', 'support_wiki']\n",
    "for d in dirs:\n",
    "#     print('=================================================================================================')\n",
    "    files = os.listdir('/Volumes/HDD/Texts/wakati_body/'+d)\n",
    "    for file in files:\n",
    "        if file=='.DS_Store':\n",
    "            continue\n",
    "        else:\n",
    "            with open('/Volumes/HDD/Texts/wakati_body/'+d+'/'+file, 'r', encoding='utf-8', errors='ignore') as I:\n",
    "                text=I.readlines()\n",
    "#                 print('-----------------------------------------------------------------------------------------------------------------------------------------------------------------')\n",
    "#                 print(text[2:])\n",
    "            with open('/Volumes/HDD/Texts/wakati_body/wakati_body.txt', 'a') as O:\n",
    "                s=''.join(text)\n",
    "                O.write(s)\n",
    "print('OK')"
   ]
  },
  {
   "cell_type": "code",
   "execution_count": 5,
   "metadata": {},
   "outputs": [],
   "source": [
    "# livedoor.txtの作成\n",
    "dirs=['dokujo-tsushin', 'it-life-hack', 'movie-enter', 'sports-watch']\n",
    "for d in dirs:\n",
    "#     print('=================================================================================================')\n",
    "    files = os.listdir(d)\n",
    "    for file in files:\n",
    "        if file=='.DS_Store':\n",
    "            continue\n",
    "        else:\n",
    "            with open(d+'/'+file, 'r', encoding='utf-8', errors='ignore') as I:\n",
    "                text=I.readlines()\n",
    "            with open('/Users/Baron/Document/text_mining/Texts/source/livedoor/livedoor.txt', 'a') as O:\n",
    "                s=''.join(text)\n",
    "                O.write(s)"
   ]
  }
 ],
 "metadata": {
  "kernelspec": {
   "display_name": "Python 3",
   "language": "python",
   "name": "python3"
  },
  "language_info": {
   "codemirror_mode": {
    "name": "ipython",
    "version": 3
   },
   "file_extension": ".py",
   "mimetype": "text/x-python",
   "name": "python",
   "nbconvert_exporter": "python",
   "pygments_lexer": "ipython3",
   "version": "3.7.3"
  }
 },
 "nbformat": 4,
 "nbformat_minor": 2
}
